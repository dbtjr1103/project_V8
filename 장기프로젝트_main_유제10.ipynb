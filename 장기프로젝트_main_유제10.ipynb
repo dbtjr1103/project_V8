{
  "nbformat": 4,
  "nbformat_minor": 0,
  "metadata": {
    "colab": {
      "provenance": [],
      "machine_shape": "hm",
      "mount_file_id": "1dOGIGortakC6JhAAyDA67qZ6r6hJvit3",
      "authorship_tag": "ABX9TyOxaQqGlRi/6s9Tyhmyqho/",
      "include_colab_link": true
    },
    "kernelspec": {
      "name": "python3",
      "display_name": "Python 3"
    },
    "language_info": {
      "name": "python"
    },
    "accelerator": "GPU",
    "gpuClass": "standard",
    "widgets": {
      "application/vnd.jupyter.widget-state+json": {
        "291756198e624545b789b174fa0588ea": {
          "model_module": "@jupyter-widgets/controls",
          "model_name": "HBoxModel",
          "model_module_version": "1.5.0",
          "state": {
            "_dom_classes": [],
            "_model_module": "@jupyter-widgets/controls",
            "_model_module_version": "1.5.0",
            "_model_name": "HBoxModel",
            "_view_count": null,
            "_view_module": "@jupyter-widgets/controls",
            "_view_module_version": "1.5.0",
            "_view_name": "HBoxView",
            "box_style": "",
            "children": [
              "IPY_MODEL_9d6e314a00f64a3a8edcd71288bd549e",
              "IPY_MODEL_d0b9fc6b8fd1452ba17bc12f0e25f956",
              "IPY_MODEL_d29478e6b0364c22a5aa0af22fa03ddf"
            ],
            "layout": "IPY_MODEL_cd45d5815f7a4ecb9e3394823b4d0ab7"
          }
        },
        "9d6e314a00f64a3a8edcd71288bd549e": {
          "model_module": "@jupyter-widgets/controls",
          "model_name": "HTMLModel",
          "model_module_version": "1.5.0",
          "state": {
            "_dom_classes": [],
            "_model_module": "@jupyter-widgets/controls",
            "_model_module_version": "1.5.0",
            "_model_name": "HTMLModel",
            "_view_count": null,
            "_view_module": "@jupyter-widgets/controls",
            "_view_module_version": "1.5.0",
            "_view_name": "HTMLView",
            "description": "",
            "description_tooltip": null,
            "layout": "IPY_MODEL_d4e0614210eb4927913ee713641b7148",
            "placeholder": "​",
            "style": "IPY_MODEL_c8e37b63f6964aee9fb61f6c6ffdaa41",
            "value": "100%"
          }
        },
        "d0b9fc6b8fd1452ba17bc12f0e25f956": {
          "model_module": "@jupyter-widgets/controls",
          "model_name": "FloatProgressModel",
          "model_module_version": "1.5.0",
          "state": {
            "_dom_classes": [],
            "_model_module": "@jupyter-widgets/controls",
            "_model_module_version": "1.5.0",
            "_model_name": "FloatProgressModel",
            "_view_count": null,
            "_view_module": "@jupyter-widgets/controls",
            "_view_module_version": "1.5.0",
            "_view_name": "ProgressView",
            "bar_style": "success",
            "description": "",
            "description_tooltip": null,
            "layout": "IPY_MODEL_4cab613ef33446cb8254f034467ab2dc",
            "max": 32,
            "min": 0,
            "orientation": "horizontal",
            "style": "IPY_MODEL_f5ced8a87d404cc9a255f4d74e77fe78",
            "value": 32
          }
        },
        "d29478e6b0364c22a5aa0af22fa03ddf": {
          "model_module": "@jupyter-widgets/controls",
          "model_name": "HTMLModel",
          "model_module_version": "1.5.0",
          "state": {
            "_dom_classes": [],
            "_model_module": "@jupyter-widgets/controls",
            "_model_module_version": "1.5.0",
            "_model_name": "HTMLModel",
            "_view_count": null,
            "_view_module": "@jupyter-widgets/controls",
            "_view_module_version": "1.5.0",
            "_view_name": "HTMLView",
            "description": "",
            "description_tooltip": null,
            "layout": "IPY_MODEL_adff0514b5c34f5f9daf964275fb2b2f",
            "placeholder": "​",
            "style": "IPY_MODEL_688293a8fb2e42c397040fe6055998af",
            "value": " 32/32 [02:23&lt;00:00,  4.44s/it]"
          }
        },
        "cd45d5815f7a4ecb9e3394823b4d0ab7": {
          "model_module": "@jupyter-widgets/base",
          "model_name": "LayoutModel",
          "model_module_version": "1.2.0",
          "state": {
            "_model_module": "@jupyter-widgets/base",
            "_model_module_version": "1.2.0",
            "_model_name": "LayoutModel",
            "_view_count": null,
            "_view_module": "@jupyter-widgets/base",
            "_view_module_version": "1.2.0",
            "_view_name": "LayoutView",
            "align_content": null,
            "align_items": null,
            "align_self": null,
            "border": null,
            "bottom": null,
            "display": null,
            "flex": null,
            "flex_flow": null,
            "grid_area": null,
            "grid_auto_columns": null,
            "grid_auto_flow": null,
            "grid_auto_rows": null,
            "grid_column": null,
            "grid_gap": null,
            "grid_row": null,
            "grid_template_areas": null,
            "grid_template_columns": null,
            "grid_template_rows": null,
            "height": null,
            "justify_content": null,
            "justify_items": null,
            "left": null,
            "margin": null,
            "max_height": null,
            "max_width": null,
            "min_height": null,
            "min_width": null,
            "object_fit": null,
            "object_position": null,
            "order": null,
            "overflow": null,
            "overflow_x": null,
            "overflow_y": null,
            "padding": null,
            "right": null,
            "top": null,
            "visibility": null,
            "width": null
          }
        },
        "d4e0614210eb4927913ee713641b7148": {
          "model_module": "@jupyter-widgets/base",
          "model_name": "LayoutModel",
          "model_module_version": "1.2.0",
          "state": {
            "_model_module": "@jupyter-widgets/base",
            "_model_module_version": "1.2.0",
            "_model_name": "LayoutModel",
            "_view_count": null,
            "_view_module": "@jupyter-widgets/base",
            "_view_module_version": "1.2.0",
            "_view_name": "LayoutView",
            "align_content": null,
            "align_items": null,
            "align_self": null,
            "border": null,
            "bottom": null,
            "display": null,
            "flex": null,
            "flex_flow": null,
            "grid_area": null,
            "grid_auto_columns": null,
            "grid_auto_flow": null,
            "grid_auto_rows": null,
            "grid_column": null,
            "grid_gap": null,
            "grid_row": null,
            "grid_template_areas": null,
            "grid_template_columns": null,
            "grid_template_rows": null,
            "height": null,
            "justify_content": null,
            "justify_items": null,
            "left": null,
            "margin": null,
            "max_height": null,
            "max_width": null,
            "min_height": null,
            "min_width": null,
            "object_fit": null,
            "object_position": null,
            "order": null,
            "overflow": null,
            "overflow_x": null,
            "overflow_y": null,
            "padding": null,
            "right": null,
            "top": null,
            "visibility": null,
            "width": null
          }
        },
        "c8e37b63f6964aee9fb61f6c6ffdaa41": {
          "model_module": "@jupyter-widgets/controls",
          "model_name": "DescriptionStyleModel",
          "model_module_version": "1.5.0",
          "state": {
            "_model_module": "@jupyter-widgets/controls",
            "_model_module_version": "1.5.0",
            "_model_name": "DescriptionStyleModel",
            "_view_count": null,
            "_view_module": "@jupyter-widgets/base",
            "_view_module_version": "1.2.0",
            "_view_name": "StyleView",
            "description_width": ""
          }
        },
        "4cab613ef33446cb8254f034467ab2dc": {
          "model_module": "@jupyter-widgets/base",
          "model_name": "LayoutModel",
          "model_module_version": "1.2.0",
          "state": {
            "_model_module": "@jupyter-widgets/base",
            "_model_module_version": "1.2.0",
            "_model_name": "LayoutModel",
            "_view_count": null,
            "_view_module": "@jupyter-widgets/base",
            "_view_module_version": "1.2.0",
            "_view_name": "LayoutView",
            "align_content": null,
            "align_items": null,
            "align_self": null,
            "border": null,
            "bottom": null,
            "display": null,
            "flex": null,
            "flex_flow": null,
            "grid_area": null,
            "grid_auto_columns": null,
            "grid_auto_flow": null,
            "grid_auto_rows": null,
            "grid_column": null,
            "grid_gap": null,
            "grid_row": null,
            "grid_template_areas": null,
            "grid_template_columns": null,
            "grid_template_rows": null,
            "height": null,
            "justify_content": null,
            "justify_items": null,
            "left": null,
            "margin": null,
            "max_height": null,
            "max_width": null,
            "min_height": null,
            "min_width": null,
            "object_fit": null,
            "object_position": null,
            "order": null,
            "overflow": null,
            "overflow_x": null,
            "overflow_y": null,
            "padding": null,
            "right": null,
            "top": null,
            "visibility": null,
            "width": null
          }
        },
        "f5ced8a87d404cc9a255f4d74e77fe78": {
          "model_module": "@jupyter-widgets/controls",
          "model_name": "ProgressStyleModel",
          "model_module_version": "1.5.0",
          "state": {
            "_model_module": "@jupyter-widgets/controls",
            "_model_module_version": "1.5.0",
            "_model_name": "ProgressStyleModel",
            "_view_count": null,
            "_view_module": "@jupyter-widgets/base",
            "_view_module_version": "1.2.0",
            "_view_name": "StyleView",
            "bar_color": null,
            "description_width": ""
          }
        },
        "adff0514b5c34f5f9daf964275fb2b2f": {
          "model_module": "@jupyter-widgets/base",
          "model_name": "LayoutModel",
          "model_module_version": "1.2.0",
          "state": {
            "_model_module": "@jupyter-widgets/base",
            "_model_module_version": "1.2.0",
            "_model_name": "LayoutModel",
            "_view_count": null,
            "_view_module": "@jupyter-widgets/base",
            "_view_module_version": "1.2.0",
            "_view_name": "LayoutView",
            "align_content": null,
            "align_items": null,
            "align_self": null,
            "border": null,
            "bottom": null,
            "display": null,
            "flex": null,
            "flex_flow": null,
            "grid_area": null,
            "grid_auto_columns": null,
            "grid_auto_flow": null,
            "grid_auto_rows": null,
            "grid_column": null,
            "grid_gap": null,
            "grid_row": null,
            "grid_template_areas": null,
            "grid_template_columns": null,
            "grid_template_rows": null,
            "height": null,
            "justify_content": null,
            "justify_items": null,
            "left": null,
            "margin": null,
            "max_height": null,
            "max_width": null,
            "min_height": null,
            "min_width": null,
            "object_fit": null,
            "object_position": null,
            "order": null,
            "overflow": null,
            "overflow_x": null,
            "overflow_y": null,
            "padding": null,
            "right": null,
            "top": null,
            "visibility": null,
            "width": null
          }
        },
        "688293a8fb2e42c397040fe6055998af": {
          "model_module": "@jupyter-widgets/controls",
          "model_name": "DescriptionStyleModel",
          "model_module_version": "1.5.0",
          "state": {
            "_model_module": "@jupyter-widgets/controls",
            "_model_module_version": "1.5.0",
            "_model_name": "DescriptionStyleModel",
            "_view_count": null,
            "_view_module": "@jupyter-widgets/base",
            "_view_module_version": "1.2.0",
            "_view_name": "StyleView",
            "description_width": ""
          }
        },
        "b2748c22e1da460f91da8b4938fedd15": {
          "model_module": "@jupyter-widgets/controls",
          "model_name": "HBoxModel",
          "model_module_version": "1.5.0",
          "state": {
            "_dom_classes": [],
            "_model_module": "@jupyter-widgets/controls",
            "_model_module_version": "1.5.0",
            "_model_name": "HBoxModel",
            "_view_count": null,
            "_view_module": "@jupyter-widgets/controls",
            "_view_module_version": "1.5.0",
            "_view_name": "HBoxView",
            "box_style": "",
            "children": [
              "IPY_MODEL_60576bb225c04e799653df7be21233da",
              "IPY_MODEL_d27671c893894523954a42e71c049806",
              "IPY_MODEL_0b4f5bcb2a0647b08bb05e6eabef0a71"
            ],
            "layout": "IPY_MODEL_26727f9e8d4643bbbc61456013432151"
          }
        },
        "60576bb225c04e799653df7be21233da": {
          "model_module": "@jupyter-widgets/controls",
          "model_name": "HTMLModel",
          "model_module_version": "1.5.0",
          "state": {
            "_dom_classes": [],
            "_model_module": "@jupyter-widgets/controls",
            "_model_module_version": "1.5.0",
            "_model_name": "HTMLModel",
            "_view_count": null,
            "_view_module": "@jupyter-widgets/controls",
            "_view_module_version": "1.5.0",
            "_view_name": "HTMLView",
            "description": "",
            "description_tooltip": null,
            "layout": "IPY_MODEL_62d050494ae148baba53018f07a56de6",
            "placeholder": "​",
            "style": "IPY_MODEL_01bdd4c551f246b3a5f24bae4bcf04ca",
            "value": "100%"
          }
        },
        "d27671c893894523954a42e71c049806": {
          "model_module": "@jupyter-widgets/controls",
          "model_name": "FloatProgressModel",
          "model_module_version": "1.5.0",
          "state": {
            "_dom_classes": [],
            "_model_module": "@jupyter-widgets/controls",
            "_model_module_version": "1.5.0",
            "_model_name": "FloatProgressModel",
            "_view_count": null,
            "_view_module": "@jupyter-widgets/controls",
            "_view_module_version": "1.5.0",
            "_view_name": "ProgressView",
            "bar_style": "success",
            "description": "",
            "description_tooltip": null,
            "layout": "IPY_MODEL_f6e1091fe0454929a770597d51b9c81f",
            "max": 62,
            "min": 0,
            "orientation": "horizontal",
            "style": "IPY_MODEL_48171f19803744618d1cdaa2f72070f4",
            "value": 62
          }
        },
        "0b4f5bcb2a0647b08bb05e6eabef0a71": {
          "model_module": "@jupyter-widgets/controls",
          "model_name": "HTMLModel",
          "model_module_version": "1.5.0",
          "state": {
            "_dom_classes": [],
            "_model_module": "@jupyter-widgets/controls",
            "_model_module_version": "1.5.0",
            "_model_name": "HTMLModel",
            "_view_count": null,
            "_view_module": "@jupyter-widgets/controls",
            "_view_module_version": "1.5.0",
            "_view_name": "HTMLView",
            "description": "",
            "description_tooltip": null,
            "layout": "IPY_MODEL_569c7f69ecc6432da3b1e6a7e0065abb",
            "placeholder": "​",
            "style": "IPY_MODEL_792d6d7be9e242b9b781311cd6f98e4a",
            "value": " 62/62 [01:09&lt;00:00,  1.20s/it]"
          }
        },
        "26727f9e8d4643bbbc61456013432151": {
          "model_module": "@jupyter-widgets/base",
          "model_name": "LayoutModel",
          "model_module_version": "1.2.0",
          "state": {
            "_model_module": "@jupyter-widgets/base",
            "_model_module_version": "1.2.0",
            "_model_name": "LayoutModel",
            "_view_count": null,
            "_view_module": "@jupyter-widgets/base",
            "_view_module_version": "1.2.0",
            "_view_name": "LayoutView",
            "align_content": null,
            "align_items": null,
            "align_self": null,
            "border": null,
            "bottom": null,
            "display": null,
            "flex": null,
            "flex_flow": null,
            "grid_area": null,
            "grid_auto_columns": null,
            "grid_auto_flow": null,
            "grid_auto_rows": null,
            "grid_column": null,
            "grid_gap": null,
            "grid_row": null,
            "grid_template_areas": null,
            "grid_template_columns": null,
            "grid_template_rows": null,
            "height": null,
            "justify_content": null,
            "justify_items": null,
            "left": null,
            "margin": null,
            "max_height": null,
            "max_width": null,
            "min_height": null,
            "min_width": null,
            "object_fit": null,
            "object_position": null,
            "order": null,
            "overflow": null,
            "overflow_x": null,
            "overflow_y": null,
            "padding": null,
            "right": null,
            "top": null,
            "visibility": null,
            "width": null
          }
        },
        "62d050494ae148baba53018f07a56de6": {
          "model_module": "@jupyter-widgets/base",
          "model_name": "LayoutModel",
          "model_module_version": "1.2.0",
          "state": {
            "_model_module": "@jupyter-widgets/base",
            "_model_module_version": "1.2.0",
            "_model_name": "LayoutModel",
            "_view_count": null,
            "_view_module": "@jupyter-widgets/base",
            "_view_module_version": "1.2.0",
            "_view_name": "LayoutView",
            "align_content": null,
            "align_items": null,
            "align_self": null,
            "border": null,
            "bottom": null,
            "display": null,
            "flex": null,
            "flex_flow": null,
            "grid_area": null,
            "grid_auto_columns": null,
            "grid_auto_flow": null,
            "grid_auto_rows": null,
            "grid_column": null,
            "grid_gap": null,
            "grid_row": null,
            "grid_template_areas": null,
            "grid_template_columns": null,
            "grid_template_rows": null,
            "height": null,
            "justify_content": null,
            "justify_items": null,
            "left": null,
            "margin": null,
            "max_height": null,
            "max_width": null,
            "min_height": null,
            "min_width": null,
            "object_fit": null,
            "object_position": null,
            "order": null,
            "overflow": null,
            "overflow_x": null,
            "overflow_y": null,
            "padding": null,
            "right": null,
            "top": null,
            "visibility": null,
            "width": null
          }
        },
        "01bdd4c551f246b3a5f24bae4bcf04ca": {
          "model_module": "@jupyter-widgets/controls",
          "model_name": "DescriptionStyleModel",
          "model_module_version": "1.5.0",
          "state": {
            "_model_module": "@jupyter-widgets/controls",
            "_model_module_version": "1.5.0",
            "_model_name": "DescriptionStyleModel",
            "_view_count": null,
            "_view_module": "@jupyter-widgets/base",
            "_view_module_version": "1.2.0",
            "_view_name": "StyleView",
            "description_width": ""
          }
        },
        "f6e1091fe0454929a770597d51b9c81f": {
          "model_module": "@jupyter-widgets/base",
          "model_name": "LayoutModel",
          "model_module_version": "1.2.0",
          "state": {
            "_model_module": "@jupyter-widgets/base",
            "_model_module_version": "1.2.0",
            "_model_name": "LayoutModel",
            "_view_count": null,
            "_view_module": "@jupyter-widgets/base",
            "_view_module_version": "1.2.0",
            "_view_name": "LayoutView",
            "align_content": null,
            "align_items": null,
            "align_self": null,
            "border": null,
            "bottom": null,
            "display": null,
            "flex": null,
            "flex_flow": null,
            "grid_area": null,
            "grid_auto_columns": null,
            "grid_auto_flow": null,
            "grid_auto_rows": null,
            "grid_column": null,
            "grid_gap": null,
            "grid_row": null,
            "grid_template_areas": null,
            "grid_template_columns": null,
            "grid_template_rows": null,
            "height": null,
            "justify_content": null,
            "justify_items": null,
            "left": null,
            "margin": null,
            "max_height": null,
            "max_width": null,
            "min_height": null,
            "min_width": null,
            "object_fit": null,
            "object_position": null,
            "order": null,
            "overflow": null,
            "overflow_x": null,
            "overflow_y": null,
            "padding": null,
            "right": null,
            "top": null,
            "visibility": null,
            "width": null
          }
        },
        "48171f19803744618d1cdaa2f72070f4": {
          "model_module": "@jupyter-widgets/controls",
          "model_name": "ProgressStyleModel",
          "model_module_version": "1.5.0",
          "state": {
            "_model_module": "@jupyter-widgets/controls",
            "_model_module_version": "1.5.0",
            "_model_name": "ProgressStyleModel",
            "_view_count": null,
            "_view_module": "@jupyter-widgets/base",
            "_view_module_version": "1.2.0",
            "_view_name": "StyleView",
            "bar_color": null,
            "description_width": ""
          }
        },
        "569c7f69ecc6432da3b1e6a7e0065abb": {
          "model_module": "@jupyter-widgets/base",
          "model_name": "LayoutModel",
          "model_module_version": "1.2.0",
          "state": {
            "_model_module": "@jupyter-widgets/base",
            "_model_module_version": "1.2.0",
            "_model_name": "LayoutModel",
            "_view_count": null,
            "_view_module": "@jupyter-widgets/base",
            "_view_module_version": "1.2.0",
            "_view_name": "LayoutView",
            "align_content": null,
            "align_items": null,
            "align_self": null,
            "border": null,
            "bottom": null,
            "display": null,
            "flex": null,
            "flex_flow": null,
            "grid_area": null,
            "grid_auto_columns": null,
            "grid_auto_flow": null,
            "grid_auto_rows": null,
            "grid_column": null,
            "grid_gap": null,
            "grid_row": null,
            "grid_template_areas": null,
            "grid_template_columns": null,
            "grid_template_rows": null,
            "height": null,
            "justify_content": null,
            "justify_items": null,
            "left": null,
            "margin": null,
            "max_height": null,
            "max_width": null,
            "min_height": null,
            "min_width": null,
            "object_fit": null,
            "object_position": null,
            "order": null,
            "overflow": null,
            "overflow_x": null,
            "overflow_y": null,
            "padding": null,
            "right": null,
            "top": null,
            "visibility": null,
            "width": null
          }
        },
        "792d6d7be9e242b9b781311cd6f98e4a": {
          "model_module": "@jupyter-widgets/controls",
          "model_name": "DescriptionStyleModel",
          "model_module_version": "1.5.0",
          "state": {
            "_model_module": "@jupyter-widgets/controls",
            "_model_module_version": "1.5.0",
            "_model_name": "DescriptionStyleModel",
            "_view_count": null,
            "_view_module": "@jupyter-widgets/base",
            "_view_module_version": "1.2.0",
            "_view_name": "StyleView",
            "description_width": ""
          }
        }
      }
    }
  },
  "cells": [
    {
      "cell_type": "markdown",
      "metadata": {
        "id": "view-in-github",
        "colab_type": "text"
      },
      "source": [
        "<a href=\"https://colab.research.google.com/github/dbtjr1103/project_V8/blob/main/%EC%9E%A5%EA%B8%B0%ED%94%84%EB%A1%9C%EC%A0%9D%ED%8A%B8_main_%EC%9C%A0%EC%A0%9C10.ipynb\" target=\"_parent\"><img src=\"https://colab.research.google.com/assets/colab-badge.svg\" alt=\"Open In Colab\"/></a>"
      ]
    },
    {
      "cell_type": "markdown",
      "source": [
        "# 개요\n",
        "\n",
        "목표 : 유제품 10가지를 선정해서 모델 학습 후 앱연동까지 진행\n",
        "\n",
        "사용모델 : yolov8 nano\n",
        "\n",
        "데이터셋 : https://universe.roboflow.com/dairy10/dairy10s\n",
        "\n",
        "aihub데이터 + 바나나우유 추가, 큰 객체 데이터만 사용하며 자체 augmentation으로 작은 객체 데이터 증강 \n"
      ],
      "metadata": {
        "id": "itHtRAc-wHTM"
      }
    },
    {
      "cell_type": "markdown",
      "source": [
        "## library 설치"
      ],
      "metadata": {
        "id": "QfwU8ke62bt6"
      }
    },
    {
      "cell_type": "code",
      "source": [
        "!pip install ultralytics==8.0.4\n",
        "!pip install roboflow"
      ],
      "metadata": {
        "id": "FKFjQVq42o2p"
      },
      "execution_count": null,
      "outputs": []
    },
    {
      "cell_type": "code",
      "source": [
        "from IPython import display\n",
        "display.clear_output()\n",
        "!yolo mode=checks\n",
        "\n",
        "from ultralytics import YOLO\n",
        "\n",
        "from IPython.display import display, Image"
      ],
      "metadata": {
        "colab": {
          "base_uri": "https://localhost:8080/"
        },
        "id": "rZS66Ggl3DLl",
        "outputId": "08742941-ce29-459d-c0e0-d783ce3154ee"
      },
      "execution_count": null,
      "outputs": [
        {
          "output_type": "stream",
          "name": "stdout",
          "text": [
            "\u001b[2K\r\u001b[2K\rUltralytics YOLOv8.0.4 🚀 Python-3.8.16 torch-1.13.0+cu116 CUDA:0 (Tesla T4, 15110MiB)\n",
            "Setup complete ✅ (8 CPUs, 51.0 GB RAM, 23.0/166.8 GB disk)\n"
          ]
        }
      ]
    },
    {
      "cell_type": "markdown",
      "source": [
        "# 데이터"
      ],
      "metadata": {
        "id": "5l36Gqz8tuI3"
      }
    },
    {
      "cell_type": "markdown",
      "source": [
        "## 데이터셋 다운"
      ],
      "metadata": {
        "id": "MA1PYxxp2zbw"
      }
    },
    {
      "cell_type": "code",
      "source": [
        "cd /content/drive/MyDrive"
      ],
      "metadata": {
        "colab": {
          "base_uri": "https://localhost:8080/"
        },
        "id": "peHuzT-hBEXq",
        "outputId": "d5eb3aab-07fc-4a7e-bf62-ce335a1301b7"
      },
      "execution_count": null,
      "outputs": [
        {
          "output_type": "stream",
          "name": "stdout",
          "text": [
            "/content/drive/MyDrive\n"
          ]
        }
      ]
    },
    {
      "cell_type": "code",
      "source": [
        "cd /content"
      ],
      "metadata": {
        "colab": {
          "base_uri": "https://localhost:8080/"
        },
        "id": "6WFpSzSpYbWq",
        "outputId": "b4387819-3389-4855-b59a-9a55f4c73b11"
      },
      "execution_count": null,
      "outputs": [
        {
          "output_type": "stream",
          "name": "stdout",
          "text": [
            "/content\n"
          ]
        }
      ]
    },
    {
      "cell_type": "code",
      "source": [
        "rm -rf dairy10s-2"
      ],
      "metadata": {
        "id": "inxQU8_9vJnw"
      },
      "execution_count": null,
      "outputs": []
    },
    {
      "cell_type": "code",
      "source": [
        "from PIL import Image"
      ],
      "metadata": {
        "id": "YuFZ7RMCYw1d"
      },
      "execution_count": null,
      "outputs": []
    },
    {
      "cell_type": "code",
      "source": [
        "image('/content/dairy-1/train/images/-11-_jpg.rf.69448cfd26532bb80edd3fb107d1e85a.jpg')"
      ],
      "metadata": {
        "colab": {
          "base_uri": "https://localhost:8080/",
          "height": 172
        },
        "id": "AfEoiFutYu9F",
        "outputId": "77da143a-9184-4280-bc50-bddab7106b75"
      },
      "execution_count": null,
      "outputs": [
        {
          "output_type": "error",
          "ename": "NameError",
          "evalue": "ignored",
          "traceback": [
            "\u001b[0;31m---------------------------------------------------------------------------\u001b[0m",
            "\u001b[0;31mNameError\u001b[0m                                 Traceback (most recent call last)",
            "\u001b[0;32m<ipython-input-29-eacd5e5baf2e>\u001b[0m in \u001b[0;36m<module>\u001b[0;34m\u001b[0m\n\u001b[0;32m----> 1\u001b[0;31m \u001b[0mimage\u001b[0m\u001b[0;34m(\u001b[0m\u001b[0;34m'/content/dairy-1/train/images/-11-_jpg.rf.69448cfd26532bb80edd3fb107d1e85a.jpg'\u001b[0m\u001b[0;34m)\u001b[0m\u001b[0;34m\u001b[0m\u001b[0;34m\u001b[0m\u001b[0m\n\u001b[0m",
            "\u001b[0;31mNameError\u001b[0m: name 'image' is not defined"
          ]
        }
      ]
    },
    {
      "cell_type": "code",
      "source": [
        "!pip install roboflow\n",
        "from roboflow import Roboflow\n",
        "rf = Roboflow(api_key=\"p4uwpuA6E4He7pwdfd3E\")\n",
        "project = rf.workspace(\"dairy10\").project(\"dairy-mbfss\")\n",
        "dataset = project.version(2).download(\"yolov8\")"
      ],
      "metadata": {
        "colab": {
          "base_uri": "https://localhost:8080/",
          "height": 1000
        },
        "id": "PovtVQSJ3UFG",
        "outputId": "c6023c87-cc76-4c76-c59b-5d2cd672251f"
      },
      "execution_count": 1,
      "outputs": [
        {
          "output_type": "stream",
          "name": "stdout",
          "text": [
            "Looking in indexes: https://pypi.org/simple, https://us-python.pkg.dev/colab-wheels/public/simple/\n",
            "Collecting roboflow\n",
            "  Downloading roboflow-0.2.25-py3-none-any.whl (46 kB)\n",
            "\u001b[2K     \u001b[90m━━━━━━━━━━━━━━━━━━━━━━━━━━━━━━━━━━━━━━━━\u001b[0m \u001b[32m46.5/46.5 KB\u001b[0m \u001b[31m5.9 MB/s\u001b[0m eta \u001b[36m0:00:00\u001b[0m\n",
            "\u001b[?25hRequirement already satisfied: Pillow>=7.1.2 in /usr/local/lib/python3.8/dist-packages (from roboflow) (7.1.2)\n",
            "Requirement already satisfied: tqdm>=4.41.0 in /usr/local/lib/python3.8/dist-packages (from roboflow) (4.64.1)\n",
            "Requirement already satisfied: kiwisolver>=1.3.1 in /usr/local/lib/python3.8/dist-packages (from roboflow) (1.4.4)\n",
            "Requirement already satisfied: glob2 in /usr/local/lib/python3.8/dist-packages (from roboflow) (0.7)\n",
            "Requirement already satisfied: idna==2.10 in /usr/local/lib/python3.8/dist-packages (from roboflow) (2.10)\n",
            "Requirement already satisfied: matplotlib in /usr/local/lib/python3.8/dist-packages (from roboflow) (3.2.2)\n",
            "Collecting python-dotenv\n",
            "  Downloading python_dotenv-0.21.0-py3-none-any.whl (18 kB)\n",
            "Requirement already satisfied: opencv-python-headless>=4.5.1.48 in /usr/local/lib/python3.8/dist-packages (from roboflow) (4.7.0.68)\n",
            "Requirement already satisfied: chardet==4.0.0 in /usr/local/lib/python3.8/dist-packages (from roboflow) (4.0.0)\n",
            "Requirement already satisfied: certifi==2022.12.7 in /usr/local/lib/python3.8/dist-packages (from roboflow) (2022.12.7)\n",
            "Requirement already satisfied: PyYAML>=5.3.1 in /usr/local/lib/python3.8/dist-packages (from roboflow) (6.0)\n",
            "Requirement already satisfied: python-dateutil in /usr/local/lib/python3.8/dist-packages (from roboflow) (2.8.2)\n",
            "Requirement already satisfied: requests in /usr/local/lib/python3.8/dist-packages (from roboflow) (2.25.1)\n",
            "Requirement already satisfied: six in /usr/local/lib/python3.8/dist-packages (from roboflow) (1.15.0)\n",
            "Collecting urllib3==1.26.6\n",
            "  Downloading urllib3-1.26.6-py2.py3-none-any.whl (138 kB)\n",
            "\u001b[2K     \u001b[90m━━━━━━━━━━━━━━━━━━━━━━━━━━━━━━━━━━━━━━━\u001b[0m \u001b[32m138.5/138.5 KB\u001b[0m \u001b[31m3.6 MB/s\u001b[0m eta \u001b[36m0:00:00\u001b[0m\n",
            "\u001b[?25hCollecting requests-toolbelt\n",
            "  Downloading requests_toolbelt-0.10.1-py2.py3-none-any.whl (54 kB)\n",
            "\u001b[2K     \u001b[90m━━━━━━━━━━━━━━━━━━━━━━━━━━━━━━━━━━━━━━━━\u001b[0m \u001b[32m54.5/54.5 KB\u001b[0m \u001b[31m5.7 MB/s\u001b[0m eta \u001b[36m0:00:00\u001b[0m\n",
            "\u001b[?25hCollecting cycler==0.10.0\n",
            "  Downloading cycler-0.10.0-py2.py3-none-any.whl (6.5 kB)\n",
            "Requirement already satisfied: numpy>=1.18.5 in /usr/local/lib/python3.8/dist-packages (from roboflow) (1.21.6)\n",
            "Collecting wget\n",
            "  Downloading wget-3.2.zip (10 kB)\n",
            "  Preparing metadata (setup.py) ... \u001b[?25l\u001b[?25hdone\n",
            "Collecting pyparsing==2.4.7\n",
            "  Downloading pyparsing-2.4.7-py2.py3-none-any.whl (67 kB)\n",
            "\u001b[2K     \u001b[90m━━━━━━━━━━━━━━━━━━━━━━━━━━━━━━━━━━━━━━━━\u001b[0m \u001b[32m67.8/67.8 KB\u001b[0m \u001b[31m8.4 MB/s\u001b[0m eta \u001b[36m0:00:00\u001b[0m\n",
            "\u001b[?25hBuilding wheels for collected packages: wget\n",
            "  Building wheel for wget (setup.py) ... \u001b[?25l\u001b[?25hdone\n",
            "  Created wheel for wget: filename=wget-3.2-py3-none-any.whl size=9674 sha256=9737c35554506b6f22a9444b7d3c9eef1d38ff2753641417ace1b50eb38cac8e\n",
            "  Stored in directory: /root/.cache/pip/wheels/bd/a8/c3/3cf2c14a1837a4e04bd98631724e81f33f462d86a1d895fae0\n",
            "Successfully built wget\n",
            "Installing collected packages: wget, urllib3, python-dotenv, pyparsing, cycler, requests-toolbelt, roboflow\n",
            "  Attempting uninstall: urllib3\n",
            "    Found existing installation: urllib3 1.24.3\n",
            "    Uninstalling urllib3-1.24.3:\n",
            "      Successfully uninstalled urllib3-1.24.3\n",
            "  Attempting uninstall: pyparsing\n",
            "    Found existing installation: pyparsing 3.0.9\n",
            "    Uninstalling pyparsing-3.0.9:\n",
            "      Successfully uninstalled pyparsing-3.0.9\n",
            "  Attempting uninstall: cycler\n",
            "    Found existing installation: cycler 0.11.0\n",
            "    Uninstalling cycler-0.11.0:\n",
            "      Successfully uninstalled cycler-0.11.0\n",
            "Successfully installed cycler-0.10.0 pyparsing-2.4.7 python-dotenv-0.21.0 requests-toolbelt-0.10.1 roboflow-0.2.25 urllib3-1.26.6 wget-3.2\n"
          ]
        },
        {
          "output_type": "display_data",
          "data": {
            "application/vnd.colab-display-data+json": {
              "pip_warning": {
                "packages": [
                  "cycler",
                  "pyparsing"
                ]
              }
            }
          },
          "metadata": {}
        },
        {
          "output_type": "stream",
          "name": "stdout",
          "text": [
            "loading Roboflow workspace...\n",
            "loading Roboflow project...\n",
            "Downloading Dataset Version Zip in dairy-2 to yolov8: 100% [26663662 / 26663662] bytes\n"
          ]
        },
        {
          "output_type": "stream",
          "name": "stderr",
          "text": [
            "Extracting Dataset Version Zip to dairy-2 in yolov8:: 100%|██████████| 1524/1524 [00:00<00:00, 8544.86it/s]\n"
          ]
        }
      ]
    },
    {
      "cell_type": "markdown",
      "source": [
        "![image.png](data:image/png;base64,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)"
      ],
      "metadata": {
        "id": "K4s2oHAPnaXE"
      }
    },
    {
      "cell_type": "markdown",
      "source": [
        "data.yaml파일 수정 \n",
        "\n",
        "names:\n",
        "- 바나나맛우유\n",
        "- 덴마크바나바나\n",
        "- 덴마크초코초코\n",
        "- 덴마크커피커피\n",
        "- 덴마크딸기딸기\n",
        "- 서울우유바나나\n",
        "- 서울우유초콜렛\n",
        "- 서울우유커피\n",
        "- 서울우유\n",
        "- 서울우유딸기"
      ],
      "metadata": {
        "id": "5JaeQ1rF4mc5"
      }
    },
    {
      "cell_type": "markdown",
      "source": [
        "## 데이터 증강\n",
        "\n"
      ],
      "metadata": {
        "id": "2CUC2sIr3aWi"
      }
    },
    {
      "cell_type": "code",
      "source": [
        "%cd /content/dairy-2\n",
        "!mkdir train_aug\n",
        "!mkdir valid_aug\n",
        "%cd /content/dairy-2/train_aug\n",
        "!mkdir images\n",
        "!mkdir labels\n",
        "%cd /content/dairy-2/valid_aug\n",
        "!mkdir images\n",
        "!mkdir labels"
      ],
      "metadata": {
        "colab": {
          "base_uri": "https://localhost:8080/"
        },
        "outputId": "a123c810-a740-4f35-9c2f-275e0ea93b62",
        "id": "Iy6WWOxxICOF"
      },
      "execution_count": 2,
      "outputs": [
        {
          "output_type": "stream",
          "name": "stdout",
          "text": [
            "/content/dairy-2\n",
            "/content/dairy-2/train_aug\n",
            "/content/dairy-2/valid_aug\n"
          ]
        }
      ]
    },
    {
      "cell_type": "code",
      "source": [
        "%cd /content/dairy10s-2\n",
        "!mkdir train_aug2\n",
        "!mkdir valid_aug2\n",
        "%cd /content/dairy10s-2/train_aug2\n",
        "!mkdir images\n",
        "!mkdir labels\n",
        "%cd /content/dairy10s-2/valid_aug2\n",
        "!mkdir images\n",
        "!mkdir labels"
      ],
      "metadata": {
        "colab": {
          "base_uri": "https://localhost:8080/"
        },
        "id": "l_wmGGHJLOeA",
        "outputId": "d576ac2d-b29e-4cff-a8cb-4fc1f5429d78"
      },
      "execution_count": null,
      "outputs": [
        {
          "output_type": "stream",
          "name": "stdout",
          "text": [
            "/content/dairy10s-2\n",
            "/content/dairy10s-2/train_aug2\n",
            "/content/dairy10s-2/valid_aug2\n"
          ]
        }
      ]
    },
    {
      "cell_type": "code",
      "source": [
        "# 폴더생성"
      ],
      "metadata": {
        "id": "E-InrMb4CDP3"
      },
      "execution_count": null,
      "outputs": []
    },
    {
      "cell_type": "code",
      "source": [
        "%cd /content/drive/MyDrive/dairy10s-3\n",
        "!mkdir train_aug\n",
        "!mkdir valid_aug\n",
        "%cd /content/drive/MyDrive/dairy10s-3/train_aug\n",
        "!mkdir images\n",
        "!mkdir labels\n",
        "%cd /content/drive/MyDrive/dairy10s-3/valid_aug\n",
        "!mkdir images\n",
        "!mkdir labels"
      ],
      "metadata": {
        "colab": {
          "base_uri": "https://localhost:8080/"
        },
        "id": "aOP9Aw2WCFkR",
        "outputId": "61c47eb9-1534-4a8c-a0a2-f376a2925256"
      },
      "execution_count": null,
      "outputs": [
        {
          "output_type": "stream",
          "name": "stdout",
          "text": [
            "/content/drive/MyDrive/dairy10s-3\n",
            "/content/drive/MyDrive/dairy10s-3/train_aug\n",
            "/content/drive/MyDrive/dairy10s-3/valid_aug\n"
          ]
        }
      ]
    },
    {
      "cell_type": "markdown",
      "source": [
        "### 함수"
      ],
      "metadata": {
        "id": "Pz5hDEvS4_Gk"
      }
    },
    {
      "cell_type": "markdown",
      "source": [
        "#### trainset"
      ],
      "metadata": {
        "id": "HXzvj5KZC4Kz"
      }
    },
    {
      "cell_type": "code",
      "source": [
        "import cv2\n",
        "import matplotlib.pyplot as plt\n",
        "import numpy as np\n",
        "import glob\n",
        "import random\n",
        "from tqdm.notebook import tqdm\n",
        "\n",
        "def crop_12(path_im,path_lb,iter_num):\n",
        "    all_img = glob.glob(path_im + '/*.jpg') # 이미지 경로\n",
        "    all_lbl = glob.glob(path_lb + '/*.txt') # 라벨 경로\n",
        "    all_img.sort()\n",
        "    all_lbl.sort() \n",
        "    for number in range(iter_num):\n",
        "        data_list = random.sample(range(len(all_img)), 12)# 전체 경로의 파일수 중 12개 랜덤추출\n",
        "        im_paths = [all_img[i] for i in data_list]\n",
        "        lb_paths = [all_lbl[i] for i in data_list]\n",
        "        # 라벨 담아줄 딕셔너리 / minmax는 박스 그리려고 생성\n",
        "        new_label_dic = {'new_label_json': [], 'new_label_txt':[], 'new_label_minmax':[]}\n",
        "        with open('/content/dairy-2/train_aug/labels' + f'/concat12_image{number}.txt', \"a\") as f:\n",
        "            f.truncate(0)\n",
        "        for idx,(img_path,label_path) in enumerate(zip(im_paths,lb_paths)):\n",
        "            # Load image\n",
        "            plt.axis(\"off\") # 축 제거\n",
        "            img = cv2.imread(img_path)\n",
        "            with open(label_path, \"r\") as f:\n",
        "                data = f.readline()\n",
        "            list_data = data.strip().split(' ')\n",
        "            # 로보플로로 크롭한 이미지 -> 센터와 너비 높이로 구성\n",
        "            x_center = 640*float(list_data[1])\n",
        "            y_center = 640*float(list_data[2])\n",
        "            width = 640*float(list_data[3])\n",
        "            height = 640*float(list_data[4])\n",
        "            # minmax 형식으로 변환\n",
        "            ogn_x_min = x_center - (width/2)\n",
        "            ogn_x_max = x_center + (width/2)\n",
        "            ogn_y_min = y_center - (height/2)\n",
        "            ogn_y_max = y_center + (height/2)\n",
        "            # 새로운 라벨 사전작업 좌표이동 전\n",
        "            bf_x_min = 0\n",
        "            bf_x_max = ogn_x_max - ogn_x_min\n",
        "            bf_y_min = 0\n",
        "            bf_y_max = ogn_y_min - ogn_y_max\n",
        "            # 라벨 txt 형식 좌표이동 전\n",
        "            bf_ctr_x = (bf_x_max + bf_x_min) / 2\n",
        "            bf_ctr_y = (bf_y_max + bf_y_min) / 2\n",
        "            bf_width = bf_x_max\n",
        "            bf_height = bf_y_max\n",
        "            # 새로운 라벨 \n",
        "            if idx < 6: # 위 이미지\n",
        "                af_y_min = 20 # 패딩 준 만큽 \n",
        "                af_y_max = 20 + 250\n",
        "                af_x_min = idx*105 + 5\n",
        "                af_x_max = idx*105 + 110\n",
        "            else: # 아래 이미지\n",
        "                af_y_min = 320 + 20\n",
        "                af_y_max = 320 + 20 + 250\n",
        "                af_x_min = (idx-6)*105 + 5\n",
        "                af_x_max = (idx-6)*105 + 110\n",
        "            # 새로운 라벨 - json 후\n",
        "            af_ctr_x = (af_x_max + af_x_min) / 2\n",
        "            af_ctr_y = (af_y_max + af_y_min) / 2\n",
        "            af_width = af_x_max - af_x_min\n",
        "            af_height = af_y_max - af_y_min\n",
        "            # 새로운 라벨 비율 - txt 후\n",
        "            ratio_x = af_ctr_x / 640\n",
        "            ratio_y = af_ctr_y / 640\n",
        "            ratio_width = af_width / 640\n",
        "            ratio_height = af_height / 640\n",
        "            # 박스 그리기용 \n",
        "            new_label_minmax = f'{list_data[0]} {af_x_min} {af_x_max} {af_y_min} {af_y_max}'\n",
        "            # json 라벨  x_min y_min x_max y_max\n",
        "            new_label_json = f'{list_data[0]} {af_ctr_x} {af_ctr_y} {af_width} {af_height}' \n",
        "            # txt 라벨  x y width height\n",
        "            new_label_txt = f'{list_data[0]} {ratio_x} {ratio_y} {ratio_width} {ratio_height}'\n",
        "            # 라벨들 저장\n",
        "            new_label_dic['new_label_json'].append(new_label_json)\n",
        "            new_label_dic['new_label_txt'].append(new_label_txt)\n",
        "            new_label_dic['new_label_minmax'].append(new_label_minmax)\n",
        "            with open('/content/dairy-2/train_aug/labels' + f'/concat12_image{number}.txt','a') as f:\n",
        "                if idx == 11:\n",
        "                    f.write(new_label_txt)\n",
        "                else:\n",
        "                    f.write(new_label_txt + '\\n')\n",
        "            #Cropped data(이미지 라벨로 크롭 후 자르기)\n",
        "            start = (int(ogn_y_min),int(ogn_x_min))\n",
        "            end = (int(ogn_y_max),int(ogn_x_max))\n",
        "            output = np.zeros((end[0]-start[0], end[1]-start[1], 3), np.uint8)\n",
        "            for y in range(output.shape[1]):\n",
        "                for x in range(output.shape[0]):\n",
        "                    xp, yp = x + start[0], y+start[1]\n",
        "                    output[x,y] = img[xp,yp]\n",
        "            if idx == 0: # 1행 6열 2개를 합치는 방식\n",
        "                concat_img1 = output # 처음 크롭한 것은 concat1에 적절한 이미지 크기로 넣어줌\n",
        "                concat_img1 = cv2.resize(concat_img1,(105,300))\n",
        "            elif idx > 0 and idx < 6: # 2-6번째 이미지는 리사이즈 후 합침\n",
        "                output = cv2.resize(output,(105,300))\n",
        "                concat_img1 = cv2.hconcat([concat_img1,output]) # 가로로 합치는 코드\n",
        "            elif idx == 6:\n",
        "                concat_img1 = cv2.rectangle(concat_img1, (0, 320), (640, 250), (0, 0, 0), -1) # concat1 아래부분 가리기\n",
        "                concat_img1 = cv2.copyMakeBorder(concat_img1,20,0,5,5,cv2.BORDER_CONSTANT) # concat1의 패딩\n",
        "                concat_img2 = output # 2행 1열 이미지\n",
        "                concat_img2 = cv2.resize(concat_img2,(105,300))\n",
        "            elif idx == 11: # 마지막 concat후\n",
        "                output = cv2.resize(output,(105,300))\n",
        "                concat_img2 = cv2.hconcat([concat_img2,output])\n",
        "                concat_img2 = cv2.rectangle(concat_img2, (0, 320), (640, 250), (0, 0, 0), -1) # concat2 아래부분 가리기\n",
        "                concat_img2 = cv2.copyMakeBorder(concat_img2,20,0,5,5,cv2.BORDER_CONSTANT) # concat2의 패딩\n",
        "            else: # 2행 나머지 concat2에 합치기\n",
        "                output = cv2.resize(output,(105,300))\n",
        "                concat_img2 = cv2.hconcat([concat_img2,output])\n",
        "        # 만들어지 1행 6열 2개를 세로로 합침\n",
        "        concat_img = cv2.vconcat([concat_img1,concat_img2])\n",
        "        # print(concat_img.shape) # 크기확인\n",
        "        # box 쳐주기 예시\n",
        "        # for label in new_label_dic['new_label_minmax']:\n",
        "        #     # print(label)\n",
        "        #     label = label.split(' ')\n",
        "        #     concat_img = cv2.rectangle(concat_img, (int(label[1]), int(label[3])),(int(label[2]), int(label[4])), (0, 255, 0), 2)\n",
        "        # plt.imshow(concat_img)\n",
        "        cv2.imwrite('/content/dairy-2/train_aug/images' + f'/concat12_image{number}.jpg',concat_img)"
      ],
      "metadata": {
        "id": "memNc1vf5NR3"
      },
      "execution_count": 3,
      "outputs": []
    },
    {
      "cell_type": "markdown",
      "source": [
        "#### valid set"
      ],
      "metadata": {
        "id": "EwKgFMoZEKS4"
      }
    },
    {
      "cell_type": "code",
      "source": [
        "import cv2\n",
        "import matplotlib.pyplot as plt\n",
        "import numpy as np\n",
        "import glob\n",
        "import random\n",
        "from tqdm.notebook import tqdm\n",
        "\n",
        "def crop_12(path_im,path_lb,iter_num):\n",
        "    all_img = glob.glob(path_im + '/*.jpg') # 이미지 경로\n",
        "    all_lbl = glob.glob(path_lb + '/*.txt') # 라벨 경로\n",
        "    all_img.sort()\n",
        "    all_lbl.sort() \n",
        "    for number in tqdm(range(iter_num)):\n",
        "        data_list = random.sample(range(len(all_img)), 12)# 전체 경로의 파일수 중 12개 랜덤추출\n",
        "        im_paths = [all_img[i] for i in data_list]\n",
        "        lb_paths = [all_lbl[i] for i in data_list]\n",
        "        # 라벨 담아줄 딕셔너리 / minmax는 박스 그리려고 생성\n",
        "        new_label_dic = {'new_label_json': [], 'new_label_txt':[], 'new_label_minmax':[]}\n",
        "        with open('/content/dairy-2/valid_aug/labels' + f'/concat12_image{number}.txt', \"a\") as f:\n",
        "            f.truncate(0)\n",
        "        for idx,(img_path,label_path) in enumerate(zip(im_paths,lb_paths)):\n",
        "            # Load image\n",
        "            plt.axis(\"off\") # 축 제거\n",
        "            img = cv2.imread(img_path)\n",
        "            with open(label_path, \"r\") as f:\n",
        "                data = f.readline()\n",
        "            list_data = data.strip().split(' ')\n",
        "            # 로보플로로 크롭한 이미지 -> 센터와 너비 높이로 구성\n",
        "            x_center = 640*float(list_data[1])\n",
        "            y_center = 640*float(list_data[2])\n",
        "            width = 640*float(list_data[3])\n",
        "            height = 640*float(list_data[4])\n",
        "            # minmax 형식으로 변환\n",
        "            ogn_x_min = x_center - (width/2)\n",
        "            ogn_x_max = x_center + (width/2)\n",
        "            ogn_y_min = y_center - (height/2)\n",
        "            ogn_y_max = y_center + (height/2)\n",
        "            # 새로운 라벨 사전작업 좌표이동 전\n",
        "            bf_x_min = 0\n",
        "            bf_x_max = ogn_x_max - ogn_x_min\n",
        "            bf_y_min = 0\n",
        "            bf_y_max = ogn_y_min - ogn_y_max\n",
        "            # 라벨 txt 형식 좌표이동 전\n",
        "            bf_ctr_x = (bf_x_max + bf_x_min) / 2\n",
        "            bf_ctr_y = (bf_y_max + bf_y_min) / 2\n",
        "            bf_width = bf_x_max\n",
        "            bf_height = bf_y_max\n",
        "            # 새로운 라벨 \n",
        "            if idx < 6: # 위 이미지\n",
        "                af_y_min = 20 # 패딩 준 만큽 \n",
        "                af_y_max = 20 + 250\n",
        "                af_x_min = idx*105 + 5\n",
        "                af_x_max = idx*105 + 110\n",
        "            else: # 아래 이미지\n",
        "                af_y_min = 320 + 20\n",
        "                af_y_max = 320 + 20 + 250\n",
        "                af_x_min = (idx-6)*105 + 5\n",
        "                af_x_max = (idx-6)*105 + 110\n",
        "            # 새로운 라벨 - json 후\n",
        "            af_ctr_x = (af_x_max + af_x_min) / 2\n",
        "            af_ctr_y = (af_y_max + af_y_min) / 2\n",
        "            af_width = af_x_max - af_x_min\n",
        "            af_height = af_y_max - af_y_min\n",
        "            # 새로운 라벨 비율 - txt 후\n",
        "            ratio_x = af_ctr_x / 640\n",
        "            ratio_y = af_ctr_y / 640\n",
        "            ratio_width = af_width / 640\n",
        "            ratio_height = af_height / 640\n",
        "            # 박스 그리기용 \n",
        "            new_label_minmax = f'{list_data[0]} {af_x_min} {af_x_max} {af_y_min} {af_y_max}'\n",
        "            # json 라벨  x_min y_min x_max y_max\n",
        "            new_label_json = f'{list_data[0]} {af_ctr_x} {af_ctr_y} {af_width} {af_height}' \n",
        "            # txt 라벨  x y width height\n",
        "            new_label_txt = f'{list_data[0]} {ratio_x} {ratio_y} {ratio_width} {ratio_height}'\n",
        "            # 라벨들 저장\n",
        "            new_label_dic['new_label_json'].append(new_label_json)\n",
        "            new_label_dic['new_label_txt'].append(new_label_txt)\n",
        "            new_label_dic['new_label_minmax'].append(new_label_minmax)\n",
        "            with open('/content/dairy-2/valid_aug/labels' + f'/concat12_image{number}.txt','a') as f:\n",
        "                if idx == 11:\n",
        "                    f.write(new_label_txt)\n",
        "                else:\n",
        "                    f.write(new_label_txt + '\\n')\n",
        "            #Cropped data(이미지 라벨로 크롭 후 자르기)\n",
        "            start = (int(ogn_y_min),int(ogn_x_min))\n",
        "            end = (int(ogn_y_max),int(ogn_x_max))\n",
        "            output = np.zeros((end[0]-start[0], end[1]-start[1], 3), np.uint8)\n",
        "            for y in range(output.shape[1]):\n",
        "                for x in range(output.shape[0]):\n",
        "                    xp, yp = x + start[0], y+start[1]\n",
        "                    output[x,y] = img[xp,yp]\n",
        "            if idx == 0: # 1행 6열 2개를 합치는 방식\n",
        "                concat_img1 = output # 처음 크롭한 것은 concat1에 적절한 이미지 크기로 넣어줌\n",
        "                concat_img1 = cv2.resize(concat_img1,(105,300))\n",
        "            elif idx > 0 and idx < 6: # 2-6번째 이미지는 리사이즈 후 합침\n",
        "                output = cv2.resize(output,(105,300))\n",
        "                concat_img1 = cv2.hconcat([concat_img1,output]) # 가로로 합치는 코드\n",
        "            elif idx == 6:\n",
        "                concat_img1 = cv2.rectangle(concat_img1, (0, 320), (640, 250), (0, 0, 0), -1) # concat1 아래부분 가리기\n",
        "                concat_img1 = cv2.copyMakeBorder(concat_img1,20,0,5,5,cv2.BORDER_CONSTANT) # concat1의 패딩\n",
        "                concat_img2 = output # 2행 1열 이미지\n",
        "                concat_img2 = cv2.resize(concat_img2,(105,300))\n",
        "            elif idx == 11: # 마지막 concat후\n",
        "                output = cv2.resize(output,(105,300))\n",
        "                concat_img2 = cv2.hconcat([concat_img2,output])\n",
        "                concat_img2 = cv2.rectangle(concat_img2, (0, 320), (640, 250), (0, 0, 0), -1) # concat2 아래부분 가리기\n",
        "                concat_img2 = cv2.copyMakeBorder(concat_img2,20,0,5,5,cv2.BORDER_CONSTANT) # concat2의 패딩\n",
        "            else: # 2행 나머지 concat2에 합치기\n",
        "                output = cv2.resize(output,(105,300))\n",
        "                concat_img2 = cv2.hconcat([concat_img2,output])\n",
        "        # 만들어지 1행 6열 2개를 세로로 합침\n",
        "        concat_img = cv2.vconcat([concat_img1,concat_img2])\n",
        "        # print(concat_img.shape) # 크기확인\n",
        "        # box 쳐주기 예시\n",
        "        # for label in new_label_dic['new_label_minmax']:\n",
        "        #     # print(label)\n",
        "        #     label = label.split(' ')\n",
        "        #     concat_img = cv2.rectangle(concat_img, (int(label[1]), int(label[3])),(int(label[2]), int(label[4])), (0, 255, 0), 2)\n",
        "        # plt.imshow(concat_img)\n",
        "        cv2.imwrite('/content/dairy-2/valid_aug/images' + f'/concat12_image{number}.jpg',concat_img)"
      ],
      "metadata": {
        "id": "FOcbStnrELtA"
      },
      "execution_count": 6,
      "outputs": []
    },
    {
      "cell_type": "code",
      "source": [
        "import cv2\n",
        "import matplotlib.pyplot as plt\n",
        "import numpy as np\n",
        "import glob\n",
        "import random\n",
        "from tqdm.notebook import tqdm\n",
        "\n",
        "def crop_48(path_im,path_lb,iter_num):\n",
        "    all_img = glob.glob(path_im + '/*.jpg') # 이미지 경로\n",
        "    all_lbl = glob.glob(path_lb + '/*.txt') # 라벨 경로\n",
        "    all_img.sort()\n",
        "    all_lbl.sort() \n",
        "    for number in tqdm(range(iter_num)):\n",
        "        data_list = random.sample(range(len(all_img)), 48)# 전체 경로의 파일수 중 12개 랜덤추출\n",
        "        im_paths = [all_img[i] for i in data_list]\n",
        "        lb_paths = [all_lbl[i] for i in data_list]\n",
        "        # 라벨 담아줄 딕셔너리 / minmax는 박스 그리려고 생성\n",
        "        new_label_dic = {'new_label_json': [], 'new_label_txt':[], 'new_label_minmax':[]}\n",
        "        with open('/content/dairy-2/valid_aug/labels' + f'/concat48_image{number}.txt', \"a\") as f:\n",
        "            f.truncate(0)\n",
        "        for idx,(img_path,label_path) in enumerate(zip(im_paths,lb_paths)):\n",
        "            # Load image\n",
        "            plt.axis(\"off\") # 축 제거\n",
        "            img = cv2.imread(img_path)\n",
        "            with open(label_path, \"r\") as f:\n",
        "                data = f.readline()\n",
        "            list_data = data.strip().split(' ')\n",
        "            # minmax 형식으로 변환\n",
        "            ogn_x_min = 640*float(list_data[1]) - (640*float(list_data[3])/2)\n",
        "            ogn_x_max = 640*float(list_data[1]) + (640*float(list_data[3])/2)\n",
        "            ogn_y_min = 640*float(list_data[2]) - (640*float(list_data[4])/2)\n",
        "            ogn_y_max = 640*float(list_data[2]) + (640*float(list_data[4])/2)\n",
        "            # 라벨 txt 형식 좌표이동 전\n",
        "            bf_ctr_x = (ogn_x_max - ogn_x_min + 0) / 2\n",
        "            bf_ctr_y = (ogn_y_min - ogn_y_max + 0) / 2\n",
        "            bf_width = ogn_x_max - ogn_x_min\n",
        "            bf_height = ogn_y_min - ogn_y_max\n",
        "            # 새로운 라벨         \n",
        "            af_y_min = 160*(idx//12) + 10\n",
        "            af_y_max = 160*(idx//12) + 10 + 125\n",
        "            af_x_min = (idx-12*(idx//12))*53 + 2\n",
        "            af_x_max = (idx-12*(idx//12))*53 + 55\n",
        "            # 새로운 라벨 - json 후\n",
        "            af_ctr_x = (af_x_max + af_x_min) / 2\n",
        "            af_ctr_y = (af_y_max + af_y_min) / 2\n",
        "            af_width = af_x_max - af_x_min\n",
        "            af_height = af_y_max - af_y_min\n",
        "            # 새로운 라벨 비율 - txt 후\n",
        "            ratio_x = af_ctr_x / 640\n",
        "            ratio_y = af_ctr_y / 640\n",
        "            ratio_width = af_width / 640\n",
        "            ratio_height = af_height / 640\n",
        "            # 박스 그리기용 \n",
        "            new_label_minmax = f'{list_data[0]} {af_x_min} {af_x_max} {af_y_min} {af_y_max}'\n",
        "            # json 라벨  x_min y_min x_max y_max\n",
        "            new_label_json = f'{list_data[0]} {af_ctr_x} {af_ctr_y} {af_width} {af_height}' \n",
        "            # txt 라벨  x y width height\n",
        "            new_label_txt = f'{list_data[0]} {ratio_x} {ratio_y} {ratio_width} {ratio_height}'\n",
        "            # 라벨들 저장\n",
        "            new_label_dic['new_label_json'].append(new_label_json)\n",
        "            new_label_dic['new_label_txt'].append(new_label_txt)\n",
        "            new_label_dic['new_label_minmax'].append(new_label_minmax)\n",
        "            with open('/content/dairy-2/valid_aug/labels' + f'/concat48_image{number}.txt','a') as f:\n",
        "                if idx == 47:\n",
        "                    f.write(new_label_txt)\n",
        "                else:\n",
        "                    f.write(new_label_txt + '\\n')\n",
        "            #Cropped data(이미지 라벨로 크롭 후 자르기)\n",
        "            start = (int(ogn_y_min),int(ogn_x_min))\n",
        "            end = (int(ogn_y_max),int(ogn_x_max))\n",
        "            output = np.zeros((end[0]-start[0], end[1]-start[1], 3), np.uint8)\n",
        "            for y in range(output.shape[1]):\n",
        "                for x in range(output.shape[0]):\n",
        "                    xp, yp = x + start[0], y+start[1]\n",
        "                    output[x,y] = img[xp,yp]\n",
        "            if idx == 0: # 1행 6열 2개를 합치는 방식\n",
        "                concat_img1 = output # 처음 크롭한 것은 concat1에 적절한 이미지 크기로 넣어줌\n",
        "                concat_img1 = cv2.resize(concat_img1,(53,150))\n",
        "            elif idx > 0 and idx < 12: # 2-6번째 이미지는 리사이즈 후 합침\n",
        "                output = cv2.resize(output,(53,150))\n",
        "                concat_img1 = cv2.hconcat([concat_img1,output]) # 가로로 합치는 코드\n",
        "            elif idx == 12 or idx == 24 or idx == 36:\n",
        "                if idx == 12:\n",
        "                    concat_img1 = cv2.rectangle(concat_img1, (0, 160), (640, 125), (0, 0, 0), -1) # concat1 아래부분 가리기\n",
        "                    concat_img1 = cv2.copyMakeBorder(concat_img1,10,0,2,2,cv2.BORDER_CONSTANT)\n",
        "                concat_img2 = output # 2행 1열 이미지\n",
        "                concat_img2 = cv2.resize(concat_img2,(53,150))\n",
        "            elif idx == 47 or idx == 23 or idx == 35: # 마지막 concat후\n",
        "                output = cv2.resize(output,(53,150))\n",
        "                concat_img2 = cv2.hconcat([concat_img2,output])\n",
        "                concat_img2 = cv2.rectangle(concat_img2, (0, 160), (640, 125), (0, 0, 0), -1) # concat2 아래부분 가리기\n",
        "                concat_img2 = cv2.copyMakeBorder(concat_img2,10,0,2,2,cv2.BORDER_CONSTANT) # concat2의 패딩\n",
        "                concat_img1 = cv2.vconcat([concat_img1,concat_img2])\n",
        "            elif idx > 12 and (idx not in [0,12,23,24,35,36,47]): # 2행 나머지 concat2에 합치기\n",
        "                output = cv2.resize(output,(53,150))\n",
        "                concat_img2 = cv2.hconcat([concat_img2,output])\n",
        "        # print(concat_img1.shape) # 크기확인\n",
        "        # box 쳐주기 예시\n",
        "        # for label in new_label_dic['new_label_minmax']:\n",
        "            # print(label)\n",
        "        #     label = label.split(' ')\n",
        "        #     concat_img1 = cv2.rectangle(concat_img1, (int(label[1]), int(label[3])),(int(label[2]), int(label[4])), (0, 255, 0), 2)\n",
        "        # plt.imshow(concat_img1)\n",
        "        cv2.imwrite('/content/dairy-2/valid_aug/images' + f'/concat48_image{number}.jpg',concat_img1)"
      ],
      "metadata": {
        "id": "SeZrxo10ERbv"
      },
      "execution_count": 7,
      "outputs": []
    },
    {
      "cell_type": "markdown",
      "source": [
        "### 생성"
      ],
      "metadata": {
        "id": "pI2eQKIC5XUf"
      }
    },
    {
      "cell_type": "code",
      "source": [
        "# 기존 train 이미지 수\n",
        "path_im = '/content/dairy-2/train/images'\n",
        "path_lb = '/content/dairy-2/train/labels'\n",
        "print(len(glob.glob(path_im + '/*.jpg')),len(glob.glob(path_lb + '/*.txt')))"
      ],
      "metadata": {
        "colab": {
          "base_uri": "https://localhost:8080/"
        },
        "id": "dGmIcL9j5sHX",
        "outputId": "cc0de2e2-a4a7-4594-8ab9-f41ff7f63464"
      },
      "execution_count": 4,
      "outputs": [
        {
          "output_type": "stream",
          "name": "stdout",
          "text": [
            "524 524\n"
          ]
        }
      ]
    },
    {
      "cell_type": "code",
      "source": [
        "# 1000장 맞추기, train은 mosaic / scale로 인해 12배만 생성(48개는 해상도대비 너무 작아진다고 판단)\n",
        "path_im = '/content/dairy-2/train/images'\n",
        "path_lb = '/content/dairy-2/train/labels'\n",
        "print(len(glob.glob(path_im + '/*.jpg')),len(glob.glob(path_lb + '/*.txt')))\n",
        "crop_12(path_im,path_lb,476)\n",
        "print(len(glob.glob(path_im + '/*.jpg')),len(glob.glob(path_lb + '/*.txt')))"
      ],
      "metadata": {
        "colab": {
          "base_uri": "https://localhost:8080/",
          "height": 285
        },
        "id": "6NZ5yE_35v_h",
        "outputId": "361c0017-1112-4fd8-b3b8-ea9e22fb7248"
      },
      "execution_count": 5,
      "outputs": [
        {
          "output_type": "stream",
          "name": "stdout",
          "text": [
            "524 524\n",
            "524 524\n"
          ]
        },
        {
          "output_type": "display_data",
          "data": {
            "text/plain": [
              "<Figure size 432x288 with 1 Axes>"
            ],
            "image/png": "[encoded data removed]"
          },
          "metadata": {
            "needs_background": "light"
          }
        }
      ]
    },
    {
      "cell_type": "code",
      "source": [
        "# 기존 valid 이미지 수\n",
        "path_im = '/content/dairy-2/valid/images'\n",
        "path_lb = '/content/dairy-2/valid/labels'\n",
        "print(len(glob.glob(path_im + '/*.jpg')),len(glob.glob(path_lb + '/*.txt')))"
      ],
      "metadata": {
        "colab": {
          "base_uri": "https://localhost:8080/"
        },
        "id": "mdtdnWb062fX",
        "outputId": "7482e8ab-aa96-48bd-eab6-85a1ca1c9ed8"
      },
      "execution_count": 8,
      "outputs": [
        {
          "output_type": "stream",
          "name": "stdout",
          "text": [
            "156 156\n"
          ]
        }
      ]
    },
    {
      "cell_type": "code",
      "source": [
        "# 200장 맞추기\n",
        "path_im = '/content/dairy-2/valid/images'\n",
        "path_lb = '/content/dairy-2/valid/labels'\n",
        "print(len(glob.glob(path_im + '/*.jpg')),len(glob.glob(path_lb + '/*.txt')))\n",
        "crop_48(path_im,path_lb,32)\n",
        "crop_12(path_im,path_lb,62)\n",
        "print(len(glob.glob(path_im + '/*.jpg')),len(glob.glob(path_lb + '/*.txt')))"
      ],
      "metadata": {
        "colab": {
          "base_uri": "https://localhost:8080/",
          "height": 349,
          "referenced_widgets": [
            "291756198e624545b789b174fa0588ea",
            "9d6e314a00f64a3a8edcd71288bd549e",
            "d0b9fc6b8fd1452ba17bc12f0e25f956",
            "d29478e6b0364c22a5aa0af22fa03ddf",
            "cd45d5815f7a4ecb9e3394823b4d0ab7",
            "d4e0614210eb4927913ee713641b7148",
            "c8e37b63f6964aee9fb61f6c6ffdaa41",
            "4cab613ef33446cb8254f034467ab2dc",
            "f5ced8a87d404cc9a255f4d74e77fe78",
            "adff0514b5c34f5f9daf964275fb2b2f",
            "688293a8fb2e42c397040fe6055998af",
            "b2748c22e1da460f91da8b4938fedd15",
            "60576bb225c04e799653df7be21233da",
            "d27671c893894523954a42e71c049806",
            "0b4f5bcb2a0647b08bb05e6eabef0a71",
            "26727f9e8d4643bbbc61456013432151",
            "62d050494ae148baba53018f07a56de6",
            "01bdd4c551f246b3a5f24bae4bcf04ca",
            "f6e1091fe0454929a770597d51b9c81f",
            "48171f19803744618d1cdaa2f72070f4",
            "569c7f69ecc6432da3b1e6a7e0065abb",
            "792d6d7be9e242b9b781311cd6f98e4a"
          ]
        },
        "id": "240WebGn7ARr",
        "outputId": "26243616-bdfe-4caf-b864-c67fef7e813f"
      },
      "execution_count": 9,
      "outputs": [
        {
          "output_type": "stream",
          "name": "stdout",
          "text": [
            "156 156\n"
          ]
        },
        {
          "output_type": "display_data",
          "data": {
            "text/plain": [
              "  0%|          | 0/32 [00:00<?, ?it/s]"
            ],
            "application/vnd.jupyter.widget-view+json": {
              "version_major": 2,
              "version_minor": 0,
              "model_id": "291756198e624545b789b174fa0588ea"
            }
          },
          "metadata": {}
        },
        {
          "output_type": "display_data",
          "data": {
            "text/plain": [
              "  0%|          | 0/62 [00:00<?, ?it/s]"
            ],
            "application/vnd.jupyter.widget-view+json": {
              "version_major": 2,
              "version_minor": 0,
              "model_id": "b2748c22e1da460f91da8b4938fedd15"
            }
          },
          "metadata": {}
        },
        {
          "output_type": "stream",
          "name": "stdout",
          "text": [
            "156 156\n"
          ]
        },
        {
          "output_type": "display_data",
          "data": {
            "text/plain": [
              "<Figure size 432x288 with 1 Axes>"
            ],
            "image/png": "[encoded data removed]"
          },
          "metadata": {
            "needs_background": "light"
          }
        }
      ]
    },
    {
      "cell_type": "markdown",
      "source": [
        "### 파일 병합"
      ],
      "metadata": {
        "id": "_Mj9zO8FpvJC"
      }
    },
    {
      "cell_type": "code",
      "source": [
        "import os\n",
        "import shutil\n",
        "\n",
        "src_folder = \"/content/dairy-2/train_aug/images\"\n",
        "dst_folder = \"/content/dairy-2/train/images\"\n",
        "\n",
        "for file_name in os.listdir(src_folder):\n",
        "    src_file = os.path.join(src_folder, file_name)\n",
        "    dst_file = os.path.join(dst_folder, file_name)\n",
        "    shutil.move(src_file, dst_file)"
      ],
      "metadata": {
        "id": "WjP8QJQl7v5N"
      },
      "execution_count": 11,
      "outputs": []
    },
    {
      "cell_type": "code",
      "source": [
        "src_folder = \"/content/dairy-2/train_aug/labels\"\n",
        "dst_folder = \"/content/dairy-2/train/labels\"\n",
        "\n",
        "for file_name in os.listdir(src_folder):\n",
        "    src_file = os.path.join(src_folder, file_name)\n",
        "    dst_file = os.path.join(dst_folder, file_name)\n",
        "    shutil.move(src_file, dst_file)\n",
        "\n",
        "path_im = '/content/dairy-2/train/images'\n",
        "path_lb = '/content/dairy-2/train/labels'\n",
        "print(len(glob.glob(path_im + '/*.jpg')),len(glob.glob(path_lb + '/*.txt')))"
      ],
      "metadata": {
        "id": "yQXzOu-17xn2",
        "colab": {
          "base_uri": "https://localhost:8080/"
        },
        "outputId": "180a4976-5678-4cac-8f09-abef518aab7e"
      },
      "execution_count": 12,
      "outputs": [
        {
          "output_type": "stream",
          "name": "stdout",
          "text": [
            "1000 1000\n"
          ]
        }
      ]
    },
    {
      "cell_type": "code",
      "source": [
        "src_folder = \"/content/dairy-2/valid_aug/images\"\n",
        "dst_folder = \"/content/dairy-2/valid/images\"\n",
        "\n",
        "for file_name in os.listdir(src_folder):\n",
        "    src_file = os.path.join(src_folder, file_name)\n",
        "    dst_file = os.path.join(dst_folder, file_name)\n",
        "    shutil.move(src_file, dst_file)"
      ],
      "metadata": {
        "id": "PiPaaMsIqiNG"
      },
      "execution_count": 15,
      "outputs": []
    },
    {
      "cell_type": "code",
      "source": [
        "src_folder = \"/content/dairy-2/valid_aug/labels\"\n",
        "dst_folder = \"/content/dairy-2/valid/labels\"\n",
        "\n",
        "for file_name in os.listdir(src_folder):\n",
        "    src_file = os.path.join(src_folder, file_name)\n",
        "    dst_file = os.path.join(dst_folder, file_name)\n",
        "    shutil.move(src_file, dst_file)\n",
        "\n",
        "path_im = '/content/dairy-2/valid/images'\n",
        "path_lb = '/content/dairy-2/valid/labels'\n",
        "print(len(glob.glob(path_im + '/*.jpg')),len(glob.glob(path_lb + '/*.txt')))"
      ],
      "metadata": {
        "colab": {
          "base_uri": "https://localhost:8080/"
        },
        "id": "IytjN1jOqigQ",
        "outputId": "6c532033-632b-44bd-982a-ab84908c9d51"
      },
      "execution_count": 16,
      "outputs": [
        {
          "output_type": "stream",
          "name": "stdout",
          "text": [
            "250 250\n"
          ]
        }
      ]
    },
    {
      "cell_type": "code",
      "source": [
        "!rm -rf /content/dairy-2/train_aug\n",
        "!rm -rf /content/dairy-2/valid_aug"
      ],
      "metadata": {
        "id": "o43sAkNhrj7U"
      },
      "execution_count": 17,
      "outputs": []
    },
    {
      "cell_type": "code",
      "source": [
        "%cd /content"
      ],
      "metadata": {
        "colab": {
          "base_uri": "https://localhost:8080/"
        },
        "id": "lZjGo_U5tLgs",
        "outputId": "3ad5d52e-01e5-4488-cf7d-60233269ac84"
      },
      "execution_count": 22,
      "outputs": [
        {
          "output_type": "stream",
          "name": "stdout",
          "text": [
            "/content\n"
          ]
        }
      ]
    },
    {
      "cell_type": "code",
      "source": [
        "# 압축해서 저장 \n",
        "import shutil\n",
        "\n",
        "folder_to_zip = \"dairy-2\"\n",
        "output_file = \"dairy10\"\n",
        "\n",
        "shutil.make_archive(output_file, \"zip\", folder_to_zip)"
      ],
      "metadata": {
        "colab": {
          "base_uri": "https://localhost:8080/",
          "height": 35
        },
        "id": "db6rNeDHqqiU",
        "outputId": "4c3ccbac-162d-46d1-eadb-89b15f60e2ba"
      },
      "execution_count": 24,
      "outputs": [
        {
          "output_type": "execute_result",
          "data": {
            "text/plain": [
              "'/content/dairy10.zip'"
            ],
            "application/vnd.google.colaboratory.intrinsic+json": {
              "type": "string"
            }
          },
          "metadata": {},
          "execution_count": 24
        }
      ]
    },
    {
      "cell_type": "code",
      "source": [],
      "metadata": {
        "id": "44LRGTphr3H4"
      },
      "execution_count": null,
      "outputs": []
    },
    {
      "cell_type": "markdown",
      "source": [
        "# 모델학습"
      ],
      "metadata": {
        "id": "FWB5eAA4toPw"
      }
    },
    {
      "cell_type": "code",
      "source": [
        "!pip install ultralytics"
      ],
      "metadata": {
        "id": "0bQIiR_ptpyv"
      },
      "execution_count": null,
      "outputs": []
    },
    {
      "cell_type": "code",
      "source": [],
      "metadata": {
        "id": "9KK4S8Jmt2gO"
      },
      "execution_count": null,
      "outputs": []
    }
  ]
}